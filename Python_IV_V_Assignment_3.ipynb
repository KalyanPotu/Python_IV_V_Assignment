{
 "cells": [
  {
   "cell_type": "markdown",
   "metadata": {},
   "source": [
    "# Q1 area of Cone"
   ]
  },
  {
   "cell_type": "code",
   "execution_count": 5,
   "metadata": {},
   "outputs": [
    {
     "name": "stdout",
     "output_type": "stream",
     "text": [
      "Enter cone raidus: 4\n",
      "Enter cone height: 5\n",
      "Area of the cone (80.46403225736714, 130.72951471480383, 83.7758040957278)\n"
     ]
    }
   ],
   "source": [
    "import math\n",
    "class cone_i:\n",
    "    def __init__(self,radius,height):\n",
    "        self.radius=radius\n",
    "        self.height=height\n",
    "            \n",
    "    def c_area(self):\n",
    "        # Calculate Length of a Slide (Slant)\n",
    "        l = math.sqrt(self.radius * self.radius + self.height * self.height)\n",
    "\n",
    "        # Calculate the Surface Area\n",
    "        SA = math.pi * self.radius * (self.radius + l)\n",
    "\n",
    "        # Calculate the Volume\n",
    "        Volume = (1.0/3) * math.pi * self.radius * self.radius * self.height\n",
    "\n",
    "        # Calculate the Lateral Surface Area\n",
    "        LSA = math.pi * self.radius  * l\n",
    "        return LSA,SA,Volume\n",
    "\n",
    "a=float(input('Enter cone raidus: '))\n",
    "b=float(input('Enter cone height: '))\n",
    "print('Area of the cone',cone_i(a,b).c_area())"
   ]
  },
  {
   "cell_type": "markdown",
   "metadata": {},
   "source": [
    "# Q2 class MathOperation which implements pow(x,n)"
   ]
  },
  {
   "cell_type": "code",
   "execution_count": 2,
   "metadata": {},
   "outputs": [
    {
     "name": "stdout",
     "output_type": "stream",
     "text": [
      " Please Enter any Positive Integer : 4\n",
      " Please Enter Exponent Value : 2\n",
      "The Result of 4 Power 2=  16\n"
     ]
    }
   ],
   "source": [
    "class n_power:\n",
    "    def __init__(self,num1,num2):\n",
    "        self.num1=num1\n",
    "        self.num2=num2\n",
    "        \n",
    "    def n_pow(self):\n",
    "        power = 1\n",
    "        for i in range(1, self.num2 + 1):\n",
    "            power = power * self.num1\n",
    "        return power\n",
    "\n",
    "number = int(input(\" Please Enter any Positive Integer : \"))\n",
    "exponent = int(input(\" Please Enter Exponent Value : \"))\n",
    "print(\"The Result of {0} Power {1}= \".format(number, exponent),n_power(number,exponent).n_pow())    \n"
   ]
  },
  {
   "cell_type": "markdown",
   "metadata": {},
   "source": [
    "# Numpy Assignment 1 - Q1"
   ]
  },
  {
   "cell_type": "code",
   "execution_count": 5,
   "metadata": {},
   "outputs": [
    {
     "data": {
      "text/plain": [
       "array([[ 1,  1,  1],\n",
       "       [ 4,  2,  1],\n",
       "       [ 9,  3,  1],\n",
       "       [25,  5,  1]])"
      ]
     },
     "execution_count": 5,
     "metadata": {},
     "output_type": "execute_result"
    }
   ],
   "source": [
    "import numpy as np\n",
    "x = np.array([1, 2, 3, 5])\n",
    "N = 3\n",
    "np.vander(x, N)"
   ]
  },
  {
   "cell_type": "markdown",
   "metadata": {},
   "source": [
    "# Numpy Assignment 2 - Q1"
   ]
  },
  {
   "cell_type": "code",
   "execution_count": 7,
   "metadata": {},
   "outputs": [],
   "source": [
    "import numpy as np\n",
    "def mov_avg(x,w):\n",
    "    for i in range(len(x)-w):\n",
    "        y=np.sum(x[i:i+w])\n",
    "        print(y/w)"
   ]
  },
  {
   "cell_type": "code",
   "execution_count": 8,
   "metadata": {},
   "outputs": [
    {
     "name": "stdout",
     "output_type": "stream",
     "text": [
      "4.0\n",
      "6.0\n",
      "4.5\n",
      "5.0\n",
      "9.0\n",
      "10.5\n",
      "38.0\n",
      "68.5\n",
      "76.5\n",
      "90.0\n",
      "99.5\n"
     ]
    }
   ],
   "source": [
    "x = [3, 5, 7, 2, 8, 10, 11, 65, 72, 81, 99, 100, 150]\n",
    "mov_avg(x,2)"
   ]
  },
  {
   "cell_type": "code",
   "execution_count": null,
   "metadata": {},
   "outputs": [],
   "source": []
  }
 ],
 "metadata": {
  "kernelspec": {
   "display_name": "Python 3",
   "language": "python",
   "name": "python3"
  },
  "language_info": {
   "codemirror_mode": {
    "name": "ipython",
    "version": 3
   },
   "file_extension": ".py",
   "mimetype": "text/x-python",
   "name": "python",
   "nbconvert_exporter": "python",
   "pygments_lexer": "ipython3",
   "version": "3.7.0"
  }
 },
 "nbformat": 4,
 "nbformat_minor": 2
}
